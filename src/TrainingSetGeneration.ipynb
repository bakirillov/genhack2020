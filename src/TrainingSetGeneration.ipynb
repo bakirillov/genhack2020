{
 "cells": [
  {
   "cell_type": "code",
   "execution_count": 1,
   "metadata": {},
   "outputs": [],
   "source": [
    "import os\n",
    "import numpy as np\n",
    "import os.path as op\n",
    "from Bio import SeqIO\n",
    "from tqdm import tqdm"
   ]
  },
  {
   "cell_type": "code",
   "execution_count": 2,
   "metadata": {},
   "outputs": [],
   "source": [
    "RPATH = \"/home/bakirillov/HDD/data/BacterialReferences/\""
   ]
  },
  {
   "cell_type": "code",
   "execution_count": 3,
   "metadata": {},
   "outputs": [],
   "source": [
    "references = [SeqIO.parse(op.join(RPATH, b), \"fasta\") for b in [a for a in os.walk(RPATH)][0][2]]"
   ]
  },
  {
   "cell_type": "code",
   "execution_count": 4,
   "metadata": {},
   "outputs": [],
   "source": [
    "references = [str([b for b in a][0].seq) for a in references]"
   ]
  },
  {
   "cell_type": "code",
   "execution_count": 5,
   "metadata": {},
   "outputs": [
    {
     "name": "stderr",
     "output_type": "stream",
     "text": [
      "100%|██████████| 19/19 [00:00<00:00, 141.14it/s]\n"
     ]
    }
   ],
   "source": [
    "with open(\"training_set.fasta\", \"w\") as oh:\n",
    "    for i,a in tqdm(list(enumerate(references))):\n",
    "        n = len(a)\n",
    "        read_starts = np.random.choice(np.arange(0, n-150), size=50)\n",
    "        for b in read_starts:\n",
    "            oh.write(\">\"+str(i)+\"\\n\")\n",
    "            oh.write(a[b:b+150]+\"\\n\")"
   ]
  }
 ],
 "metadata": {
  "kernelspec": {
   "display_name": "Python 3",
   "language": "python",
   "name": "python3"
  },
  "language_info": {
   "codemirror_mode": {
    "name": "ipython",
    "version": 3
   },
   "file_extension": ".py",
   "mimetype": "text/x-python",
   "name": "python",
   "nbconvert_exporter": "python",
   "pygments_lexer": "ipython3",
   "version": "3.7.5"
  }
 },
 "nbformat": 4,
 "nbformat_minor": 2
}
